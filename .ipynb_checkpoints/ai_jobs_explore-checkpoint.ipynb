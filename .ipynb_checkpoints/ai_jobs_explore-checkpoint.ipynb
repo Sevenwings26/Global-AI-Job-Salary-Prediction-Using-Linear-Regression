{
 "cells": [
  {
   "cell_type": "markdown",
   "id": "74433fdd-e332-488b-9489-f9935edd2fb5",
   "metadata": {},
   "source": [
    "# GLOBAL AI JOB MARKET & SALARY TRENDS 2025"
   ]
  },
  {
   "cell_type": "markdown",
   "id": "92e694e7-5a30-44e0-a440-4857c75cc404",
   "metadata": {},
   "source": [
    "# DATA EXPLORATION"
   ]
  },
  {
   "cell_type": "markdown",
   "id": "74a76e94-3760-4b48-8d19-802901bf65f6",
   "metadata": {
    "jp-MarkdownHeadingCollapsed": true
   },
   "source": [
    "## 1. Prepare Data"
   ]
  },
  {
   "cell_type": "markdown",
   "id": "ca59468d-3396-46d8-bbed-c42274a97895",
   "metadata": {},
   "source": [
    "### Import Liraries for Exploration"
   ]
  },
  {
   "cell_type": "code",
   "execution_count": 5,
   "id": "bd0bb5d7-c7f3-4a2c-819f-d2586139ce00",
   "metadata": {},
   "outputs": [],
   "source": [
    "# %matplotlib inline\n",
    "import pandas as pd\n",
    "import numpy as np\n",
    "import matplotlib.pyplot as plt\n",
    "import seaborn as sns\n",
    "import plotly.express as px\n",
    "# plotting map\n",
    "# import pycountry"
   ]
  },
  {
   "cell_type": "code",
   "execution_count": 6,
   "id": "17b071ae-3294-4610-9700-9fa9c789bf0b",
   "metadata": {},
   "outputs": [],
   "source": [
    "# !pip install pycountry"
   ]
  },
  {
   "cell_type": "markdown",
   "id": "df545a6d-f8e1-4069-900b-8b060c2097fb",
   "metadata": {},
   "source": [
    "### Import Data\n",
    "\n",
    "Use a function --\"def wrangle()\", function will be used also cleaning the data, and also prepare data for model development "
   ]
  },
  {
   "cell_type": "code",
   "execution_count": 183,
   "id": "839d8ee9-155e-4ba7-887c-c4f7281b6880",
   "metadata": {},
   "outputs": [],
   "source": [
    "def wrangle(path):\n",
    "    # read csv file \n",
    "    df = pd.read_csv(path)\n",
    "    \n",
    "    # work on data index - set to range and rename column\n",
    "    df.set_index(np.arange(1,15001), inplace=True) # set index to range\n",
    "    df.index.name = \"id\"\n",
    "    \n",
    "    # drop colums - that are not considered important\n",
    "    df.drop(columns=[\"job_id\", \"salary_currency\", \"employee_residence\"], inplace=True)\n",
    "\n",
    "    # multicolinearity \n",
    "    df.drop(columns=[\"years_experience\", \"job_description_length\",\t\"benefits_score\"], inplace=True)\n",
    "\n",
    "    # High Cardinality \n",
    "    df.drop(columns=[\"required_skills\", \"posting_date\", \"application_deadline\"], inplace=True)\n",
    "\n",
    "    # call the remove_outliers function\n",
    "    # df = remove_outliers()\n",
    "\n",
    "    # Calculate the Q1 at 25% and Q3 at 75%\n",
    "    Q1 = df[\"salary_usd\"].quantile(0.25)\n",
    "    Q3 = df[\"salary_usd\"].quantile(0.75)\n",
    "\n",
    "    # Calculate IQR\n",
    "    IQR = Q3 - Q1\n",
    "    # IQR\n",
    "    \n",
    "    # Calculate the bounds \n",
    "    lower_limit = Q1 - 1.5 * IQR\n",
    "    upper_limit = Q3 + 1.5 * IQR\n",
    "    \n",
    "    # Filter the DataFrame to remove outliers\n",
    "    df = df[(df['salary_usd'] >= lower_limit) & (df['salary_usd'] <= upper_limit)]\n",
    "\n",
    "    return df"
   ]
  },
  {
   "cell_type": "code",
   "execution_count": 185,
   "id": "64c5f4c9-a739-4d8a-8897-ad163d9b03a1",
   "metadata": {},
   "outputs": [],
   "source": [
    "# call function\n",
    "path = \"ai_job_dataset.csv\"\n",
    "df = wrangle(path)\n",
    "# df.head()"
   ]
  },
  {
   "cell_type": "code",
   "execution_count": 187,
   "id": "c547a344-4ead-4da4-819c-392e6de6ec76",
   "metadata": {},
   "outputs": [
    {
     "data": {
      "text/plain": [
       "(14517, 10)"
      ]
     },
     "execution_count": 187,
     "metadata": {},
     "output_type": "execute_result"
    }
   ],
   "source": [
    "df.shape"
   ]
  },
  {
   "cell_type": "markdown",
   "id": "9c6babb3-980d-4e56-90cb-c78cdaaa5412",
   "metadata": {
    "jp-MarkdownHeadingCollapsed": true
   },
   "source": [
    "### ii. Explore"
   ]
  },
  {
   "cell_type": "code",
   "execution_count": 12,
   "id": "85f3fe43-b190-47c9-84f8-50bcd26e90d6",
   "metadata": {},
   "outputs": [
    {
     "data": {
      "text/plain": [
       "Index(['job_title', 'salary_usd', 'experience_level', 'employment_type',\n",
       "       'company_location', 'company_size', 'employee_residence',\n",
       "       'remote_ratio', 'required_skills', 'education_required',\n",
       "       'years_experience', 'industry', 'posting_date', 'application_deadline',\n",
       "       'job_description_length', 'benefits_score', 'company_name'],\n",
       "      dtype='object')"
      ]
     },
     "execution_count": 12,
     "metadata": {},
     "output_type": "execute_result"
    }
   ],
   "source": [
    "# df.isnull().sum() # data is clean\n",
    "df.columns"
   ]
  },
  {
   "cell_type": "code",
   "execution_count": 13,
   "id": "32638e49-9bf7-482c-9478-7ec10e3a3aef",
   "metadata": {},
   "outputs": [
    {
     "data": {
      "text/plain": [
       "Index([    1,     2,     3,     4,     5,     6,     7,     8,     9,    10,\n",
       "       ...\n",
       "       14991, 14992, 14993, 14994, 14995, 14996, 14997, 14998, 14999, 15000],\n",
       "      dtype='int32', name='id', length=15000)"
      ]
     },
     "execution_count": 13,
     "metadata": {},
     "output_type": "execute_result"
    }
   ],
   "source": [
    "df.index"
   ]
  },
  {
   "cell_type": "code",
   "execution_count": 14,
   "id": "a3f8f993-887b-42e8-9125-f467a24a7414",
   "metadata": {},
   "outputs": [],
   "source": [
    "## WoRK ON THE INDEX\n",
    "# df.set_index(np.arange(1,15001), inplace=True) # set index to range\n",
    "# df.index.name = \"id\"\n",
    "# move to function"
   ]
  },
  {
   "cell_type": "code",
   "execution_count": 56,
   "id": "122d6d39-064e-4708-ba78-6e4bafaeddb8",
   "metadata": {},
   "outputs": [
    {
     "name": "stdout",
     "output_type": "stream",
     "text": [
      "No of Job titles = 20\n",
      "No of Experience level = 4\n",
      "No of Employment type = 4\n",
      "No of company location = 20\n",
      "No of employee residence = 20\n",
      "No of experience level = 4\n"
     ]
    }
   ],
   "source": [
    "print(f\"No of Job titles = {df['job_title'].nunique()}\")\n",
    "print(f\"No of Experience level = {df['experience_level'].nunique()}\")\n",
    "print(f\"No of Employment type = {df['employment_type'].nunique()}\")\n",
    "print(f\"No of company location = {df['company_location'].nunique()}\")\n",
    "print(f\"No of employee residence = {df['employee_residence'].nunique()}\")\n",
    "print(f\"No of experience level = {df['experience_level'].nunique()}\")\n",
    "# df['job_title'].value_counts()"
   ]
  },
  {
   "cell_type": "code",
   "execution_count": 64,
   "id": "a78fdfaa-0de4-4619-8184-3d654db6d919",
   "metadata": {},
   "outputs": [
    {
     "data": {
      "text/plain": [
       "job_title\n",
       "Machine Learning Researcher    777\n",
       "Autonomous Systems Engineer    764\n",
       "AI Software Engineer           763\n",
       "AI Architect                   740\n",
       "Robotics Engineer              740\n",
       "Machine Learning Engineer      739\n",
       "NLP Engineer                   739\n",
       "Head of AI                     739\n",
       "Data Analyst                   738\n",
       "Data Engineer                  734\n",
       "AI Research Scientist          723\n",
       "AI Product Manager             718\n",
       "Research Scientist             717\n",
       "Principal Data Scientist       708\n",
       "Computer Vision Engineer       702\n",
       "ML Ops Engineer                701\n",
       "Data Scientist                 700\n",
       "Deep Learning Engineer         694\n",
       "AI Specialist                  694\n",
       "AI Consultant                  687\n",
       "Name: count, dtype: int64"
      ]
     },
     "execution_count": 64,
     "metadata": {},
     "output_type": "execute_result"
    }
   ],
   "source": [
    "df['job_title'].value_counts()\n",
    "\n",
    "# Remote_ratio\n",
    "# df['remote_ratio'].value_counts().plot(kind='barh', title='Remote Ratio', legend=True)\n"
   ]
  },
  {
   "cell_type": "markdown",
   "id": "648505d6-412a-47eb-b1a5-011363392d5c",
   "metadata": {},
   "source": [
    "- Check for Outliers on Salary_usd Column "
   ]
  },
  {
   "cell_type": "code",
   "execution_count": 17,
   "id": "653d9108-d3b5-48ef-b20a-527d522441d6",
   "metadata": {},
   "outputs": [],
   "source": [
    "# sns.boxplot?"
   ]
  },
  {
   "cell_type": "code",
   "execution_count": 18,
   "id": "a4a4724f-925c-48e1-b343-0fe637a3a29c",
   "metadata": {},
   "outputs": [
    {
     "data": {
      "text/plain": [
       "<Axes: ylabel='salary_usd'>"
      ]
     },
     "execution_count": 18,
     "metadata": {},
     "output_type": "execute_result"
    },
    {
     "data": {
      "image/png": "[encoded data removed]",
      "text/plain": [
       "<Figure size 640x480 with 1 Axes>"
      ]
     },
     "metadata": {},
     "output_type": "display_data"
    }
   ],
   "source": [
    "# Check for outliers \n",
    "# sns.histplot(df['salary_usd'])\n",
    "sns.boxplot(df['salary_usd'], vert=True)"
   ]
  },
  {
   "cell_type": "code",
   "execution_count": 157,
   "id": "12d83aa2-f6fe-46a0-a92c-5e55fe8e084b",
   "metadata": {},
   "outputs": [],
   "source": [
    "# Remove outliers from df using the Tukey's rule (Interquartile Range Rule)\n",
    "\n",
    "def remove_outliers():\n",
    "    # Calculate the Q1 at 25% and Q3 at 75%\n",
    "    Q1 = df[\"salary_usd\"].quantile(0.25)\n",
    "    Q3 = df[\"salary_usd\"].quantile(0.75)\n",
    "\n",
    "    # Calculate IQR\n",
    "    IQR = Q3 - Q1\n",
    "    # IQR\n",
    "    \n",
    "    # Calculate the bounds \n",
    "    lower_limit = Q1 - 1.5 * IQR\n",
    "    upper_limit = Q3 + 1.5 * IQR\n",
    "    \n",
    "    # Filter the DataFrame to remove outliers\n",
    "    df_filtered = df[(df['salary_usd'] >= lower_limit) & (df['salary_usd'] <= upper_limit)]\n",
    "\n",
    "    return df_filtered\n",
    "\n",
    "# def remove_outliers()\n",
    "# Call Function in wrangle function"
   ]
  },
  {
   "cell_type": "code",
   "execution_count": 38,
   "id": "2b5cf681-2bb3-4ba3-ba77-dd3b82069116",
   "metadata": {},
   "outputs": [
    {
     "data": {
      "text/plain": [
       "(14517, 17)"
      ]
     },
     "execution_count": 38,
     "metadata": {},
     "output_type": "execute_result"
    }
   ],
   "source": [
    "df.shape"
   ]
  },
  {
   "cell_type": "code",
   "execution_count": 40,
   "id": "0acc10fa-1c96-4a74-9d57-d6e446c21538",
   "metadata": {},
   "outputs": [
    {
     "data": {
      "image/png": "[encoded data removed]",
      "text/plain": [
       "<Figure size 640x480 with 1 Axes>"
      ]
     },
     "metadata": {},
     "output_type": "display_data"
    }
   ],
   "source": [
    "# Check for outliers \n",
    "sns.boxplot(df['salary_usd'])\n",
    "plt.show()"
   ]
  },
  {
   "cell_type": "markdown",
   "id": "e8ac92f2-803a-43cd-9712-322e3c55c2fa",
   "metadata": {},
   "source": [
    "- Graphical Analysis and representation of Salary "
   ]
  },
  {
   "cell_type": "code",
   "execution_count": 44,
   "id": "f14e3a52-7b30-4f67-8831-92d05b6c8cce",
   "metadata": {},
   "outputs": [
    {
     "name": "stderr",
     "output_type": "stream",
     "text": [
      "C:\\Users\\user\\AppData\\Local\\Temp\\ipykernel_4112\\1852592410.py:4: FutureWarning: \n",
      "\n",
      "Passing `palette` without assigning `hue` is deprecated and will be removed in v0.14.0. Assign the `y` variable to `hue` and set `legend=False` for the same effect.\n",
      "\n",
      "  sns.barplot(x=avg_salary_country.values, y=avg_salary_country.index, palette=\"viridis\")\n"
     ]
    },
    {
     "data": {
      "text/plain": [
       "Text(0, 0.5, 'Country')"
      ]
     },
     "execution_count": 44,
     "metadata": {},
     "output_type": "execute_result"
    },
    {
     "data": {
      "image/png": "[encoded data removed]",
      "text/plain": [
       "<Figure size 1200x600 with 1 Axes>"
      ]
     },
     "metadata": {},
     "output_type": "display_data"
    }
   ],
   "source": [
    "avg_salary_country = df.groupby('company_location')['salary_usd'].mean().sort_values(ascending=False).head(15)\n",
    "# avg_salary_country\n",
    "plt.figure(figsize=(12,6))\n",
    "sns.barplot(x=avg_salary_country.values, y=avg_salary_country.index, palette=\"viridis\")\n",
    "plt.title(\"Top 15 Countries by Average Salary (USD)\")\n",
    "plt.xlabel(\"Average Salary (USD)\")\n",
    "plt.ylabel(\"Country\")"
   ]
  },
  {
   "cell_type": "code",
   "execution_count": 47,
   "id": "01242606-44b2-47b6-ad64-b0c292cc5d48",
   "metadata": {},
   "outputs": [
    {
     "name": "stderr",
     "output_type": "stream",
     "text": [
      "C:\\Users\\user\\AppData\\Local\\Temp\\ipykernel_4112\\2306795219.py:4: FutureWarning: \n",
      "\n",
      "Passing `palette` without assigning `hue` is deprecated and will be removed in v0.14.0. Assign the `y` variable to `hue` and set `legend=False` for the same effect.\n",
      "\n",
      "  sns.barplot(x=avg_salary_job.values, y=avg_salary_job.index, palette=\"magma\")\n"
     ]
    },
    {
     "data": {
      "image/png": "[encoded data removed]",
      "text/plain": [
       "<Figure size 1000x500 with 1 Axes>"
      ]
     },
     "metadata": {},
     "output_type": "display_data"
    }
   ],
   "source": [
    "avg_salary_job = df.groupby('job_title')['salary_usd'].mean().sort_values(ascending=False).head(10)\n",
    "\n",
    "plt.figure(figsize=(10,5))\n",
    "sns.barplot(x=avg_salary_job.values, y=avg_salary_job.index, palette=\"magma\")\n",
    "plt.title(\"Top 10 Highest Paying AI Job (Titles)\")\n",
    "plt.xlabel(\"Average Salary (USD)\")\n",
    "plt.ylabel(\"Job Title\")\n",
    "plt.savefig(\"aiJobpaying.jpg\")\n",
    "plt.show()"
   ]
  },
  {
   "cell_type": "code",
   "execution_count": 49,
   "id": "cb54a7a7-cdbb-41df-af26-acbc0436a894",
   "metadata": {},
   "outputs": [
    {
     "name": "stderr",
     "output_type": "stream",
     "text": [
      "C:\\Users\\user\\AppData\\Local\\Temp\\ipykernel_4112\\101237906.py:4: FutureWarning: \n",
      "\n",
      "Passing `palette` without assigning `hue` is deprecated and will be removed in v0.14.0. Assign the `y` variable to `hue` and set `legend=False` for the same effect.\n",
      "\n",
      "  sns.barplot(x=avg_salary_experience.values, y=avg_salary_experience.index, palette=\"magma\")\n"
     ]
    },
    {
     "data": {
      "text/plain": [
       "Text(0, 0.5, 'Experience Level')"
      ]
     },
     "execution_count": 49,
     "metadata": {},
     "output_type": "execute_result"
    },
    {
     "data": {
      "image/png": "[encoded data removed]",
      "text/plain": [
       "<Figure size 1000x500 with 1 Axes>"
      ]
     },
     "metadata": {},
     "output_type": "display_data"
    }
   ],
   "source": [
    "avg_salary_experience = df.groupby('experience_level')['salary_usd'].mean().sort_values(ascending=False)\n",
    "\n",
    "plt.figure(figsize=(10,5))\n",
    "sns.barplot(x=avg_salary_experience.values, y=avg_salary_experience.index, palette=\"magma\")\n",
    "plt.title(\"Salary By Experience\")\n",
    "plt.xlabel(\"Average Salary (USD)\")\n",
    "plt.ylabel(\"Experience Level\")"
   ]
  },
  {
   "cell_type": "code",
   "execution_count": null,
   "id": "89da4711-5869-41f1-b993-bef88065e6d0",
   "metadata": {},
   "outputs": [],
   "source": [
    "# df_map = df.groupby?"
   ]
  },
  {
   "cell_type": "markdown",
   "id": "5208c3b4-8c81-4970-a381-7a75b2c30cec",
   "metadata": {},
   "source": [
    "- Display region and salary "
   ]
  },
  {
   "cell_type": "code",
   "execution_count": null,
   "id": "10a3ec6b-4d77-4bc8-9b0f-4b405ae9780c",
   "metadata": {},
   "outputs": [],
   "source": []
  },
  {
   "cell_type": "code",
   "execution_count": null,
   "id": "81ea0c7f-5629-4e36-956e-b6eb141119cf",
   "metadata": {},
   "outputs": [],
   "source": [
    "# Step 1: Copy Data\n",
    "df_ = df.copy()\n",
    "\n",
    "# # Optional: Filter out extremely low or high salaries for cleaner visuals\n",
    "# df_clean = df_clean[(df_clean['salary_usd'] > 1000) & (df_clean['salary_usd'] < 500000)]\n",
    "\n",
    "# Step 2: Group/aggregate by location\n",
    "map_df = df_.groupby(['company_location', 'job_title'], as_index=False).agg({\n",
    "    'salary_usd': 'mean',\n",
    "    'remote_ratio': 'mean',\n",
    "    'company_size': 'first'\n",
    "})\n",
    "\n",
    "# Step 3: Map country to ISO country codes \n",
    "def get_country_code(name):\n",
    "    try:\n",
    "        return pycountry.countries.lookup(name).alpha_3\n",
    "    except:\n",
    "        return None\n",
    "\n",
    "map_df['iso_alpha'] = map_df['company_location'].apply(get_country_code)\n",
    "\n",
    "# Step 4: Create the choropleth bubble map\n",
    "fig = px.scatter_geo(\n",
    "    map_df,\n",
    "    locations=\"iso_alpha\",\n",
    "    color=\"salary_usd\",\n",
    "    hover_name=\"company_location\",\n",
    "    size=\"salary_usd\",\n",
    "    projection=\"natural earth\",\n",
    "    hover_data={\n",
    "        'job_title': True,\n",
    "        'salary_usd': ':.0f',\n",
    "        'remote_ratio': ':.0f',\n",
    "        'company_size': True,\n",
    "        'iso_alpha': False\n",
    "    },\n",
    "    title=\"🌍 Average Salary by Company Location and Job Title\"\n",
    ")\n",
    "\n",
    "fig.update_layout(\n",
    "    geo=dict(showframe=False, showcoastlines=True),\n",
    "    margin=dict(l=0, r=0, t=40, b=0)\n",
    ")\n",
    "\n",
    "fig.show()"
   ]
  },
  {
   "cell_type": "markdown",
   "id": "61f1d6f7-84a0-4f18-822e-a54659bf0b3a",
   "metadata": {},
   "source": [
    "# MODEL BUILDING"
   ]
  },
  {
   "cell_type": "markdown",
   "id": "fe1fedb5-0016-4c0f-a0f9-9133bbc9fac2",
   "metadata": {},
   "source": [
    "### libraries for machine learning"
   ]
  },
  {
   "cell_type": "code",
   "execution_count": 268,
   "id": "dc2a5699-6007-4d8e-b429-c165d86860cb",
   "metadata": {},
   "outputs": [],
   "source": [
    "# model \n",
    "from sklearn.model_selection import train_test_split\n",
    "from sklearn.metrics import mean_absolute_error\n",
    "from sklearn.preprocessing import OneHotEncoder\n",
    "from sklearn.linear_model import LinearRegression\n",
    "\n",
    "from sklearn.pipeline import make_pipeline\n",
    "from sklearn.metrics import r2_score"
   ]
  },
  {
   "cell_type": "code",
   "execution_count": 165,
   "id": "e9e55b9d-abf2-4fad-aa95-6db4c5605b37",
   "metadata": {},
   "outputs": [
    {
     "data": {
      "text/html": [
       "<div>\n",
       "<style scoped>\n",
       "    .dataframe tbody tr th:only-of-type {\n",
       "        vertical-align: middle;\n",
       "    }\n",
       "\n",
       "    .dataframe tbody tr th {\n",
       "        vertical-align: top;\n",
       "    }\n",
       "\n",
       "    .dataframe thead th {\n",
       "        text-align: right;\n",
       "    }\n",
       "</style>\n",
       "<table border=\"1\" class=\"dataframe\">\n",
       "  <thead>\n",
       "    <tr style=\"text-align: right;\">\n",
       "      <th></th>\n",
       "      <th>job_title</th>\n",
       "      <th>salary_usd</th>\n",
       "      <th>experience_level</th>\n",
       "      <th>employment_type</th>\n",
       "      <th>company_location</th>\n",
       "      <th>company_size</th>\n",
       "      <th>employee_residence</th>\n",
       "      <th>remote_ratio</th>\n",
       "      <th>education_required</th>\n",
       "      <th>industry</th>\n",
       "      <th>company_name</th>\n",
       "    </tr>\n",
       "    <tr>\n",
       "      <th>id</th>\n",
       "      <th></th>\n",
       "      <th></th>\n",
       "      <th></th>\n",
       "      <th></th>\n",
       "      <th></th>\n",
       "      <th></th>\n",
       "      <th></th>\n",
       "      <th></th>\n",
       "      <th></th>\n",
       "      <th></th>\n",
       "      <th></th>\n",
       "    </tr>\n",
       "  </thead>\n",
       "  <tbody>\n",
       "    <tr>\n",
       "      <th>1</th>\n",
       "      <td>AI Research Scientist</td>\n",
       "      <td>90376</td>\n",
       "      <td>SE</td>\n",
       "      <td>CT</td>\n",
       "      <td>China</td>\n",
       "      <td>M</td>\n",
       "      <td>China</td>\n",
       "      <td>50</td>\n",
       "      <td>Bachelor</td>\n",
       "      <td>Automotive</td>\n",
       "      <td>Smart Analytics</td>\n",
       "    </tr>\n",
       "    <tr>\n",
       "      <th>2</th>\n",
       "      <td>AI Software Engineer</td>\n",
       "      <td>61895</td>\n",
       "      <td>EN</td>\n",
       "      <td>CT</td>\n",
       "      <td>Canada</td>\n",
       "      <td>M</td>\n",
       "      <td>Ireland</td>\n",
       "      <td>100</td>\n",
       "      <td>Master</td>\n",
       "      <td>Media</td>\n",
       "      <td>TechCorp Inc</td>\n",
       "    </tr>\n",
       "  </tbody>\n",
       "</table>\n",
       "</div>"
      ],
      "text/plain": [
       "                job_title  salary_usd experience_level employment_type  \\\n",
       "id                                                                       \n",
       "1   AI Research Scientist       90376               SE              CT   \n",
       "2    AI Software Engineer       61895               EN              CT   \n",
       "\n",
       "   company_location company_size employee_residence  remote_ratio  \\\n",
       "id                                                                  \n",
       "1             China            M              China            50   \n",
       "2            Canada            M            Ireland           100   \n",
       "\n",
       "   education_required    industry     company_name  \n",
       "id                                                  \n",
       "1            Bachelor  Automotive  Smart Analytics  \n",
       "2              Master       Media     TechCorp Inc  "
      ]
     },
     "execution_count": 165,
     "metadata": {},
     "output_type": "execute_result"
    }
   ],
   "source": [
    "df.head(2)"
   ]
  },
  {
   "cell_type": "markdown",
   "id": "98fa4c79-f871-4a99-b39b-90e1831ee46f",
   "metadata": {},
   "source": [
    "## Factors to consider and explanation"
   ]
  },
  {
   "cell_type": "markdown",
   "id": "ea668d0e-ece3-48bb-9786-5fbad16eaa35",
   "metadata": {},
   "source": [
    "#### 🔁 **Multicollinearity**\n",
    "> When **two or more independent variables are highly correlated** with each other, making it hard for a linear model to estimate their individual effects accurately.\n",
    "\n",
    "**Why it matters:** It can distort the coefficient values in **Linear Regression**, making the model unstable and less interpretable.\n",
    "\n",
    "#### 🗑️ **Unuseful Columns**\n",
    "\n",
    "> Features that do **not contribute meaningfully** to prediction or might even hurt the model.\n",
    "\n",
    "* `job_id` → Just an identifier, no predictive power\n",
    "* `posting_date` and `application_deadline` → Unless time series \n",
    "* `salary_currency` → Redundant, `salary_usd` highly useful.\n",
    "\n",
    "---\n",
    "\n",
    "### 🔢 **Cardinality**\n",
    "\n",
    "> **Cardinality** refers to the **number of unique values** in a categorical column.\n",
    "\n",
    "* **Low cardinality**: Few unique values\n",
    "  *Example*: `experience_level` → EN, MI, SE, EX\n",
    "* **High cardinality**: Many unique values\n",
    "  *Example*: `job_title`, `employee_residence`, `required_skills`\n",
    "---\n",
    "High cardinality can:\n",
    "* **Blow up your feature space** when one-hot encoding\n",
    "* **Increase the risk of overfitting**\n",
    "* **Slow down training and inference**\n",
    "\n",
    "#### ⚠️ **Overfitting**\n",
    "\n",
    "> When your model **learns the training data too well**, including noise and minor patterns, and performs **poorly on new (unseen) data**.\n",
    "\n",
    "**Symptoms:**\n",
    "\n",
    "* High training accuracy, but low test accuracy\n",
    "\n",
    "**In project:** Too many dummy variables (e.g., one-hot for job titles) can cause this. One-hot is useful for linear regression\n",
    "\n",
    "---\n",
    "\n",
    "#### 😐 **Underfitting**\n",
    "\n",
    "> When your model is **too simple** to capture the underlying patterns in the data.\n",
    "\n",
    "**Symptoms:**\n",
    "\n",
    "* Poor performance on both training and test sets\n",
    "\n",
    "**In project:** Ignoring important variables or using a model too basic without tuning can lead to this.\n",
    "\n",
    "---\n",
    "\n",
    "#### 🛠️ **Hyperparameters** - Not relevant here\n",
    "\n",
    "> **Settings you configure before training** a model — they control how the algorithm learns.\n",
    "\n",
    "**Examples (in other models):**\n",
    "\n",
    "* `alpha` in Ridge or Lasso (regularization strength)\n",
    "* `learning_rate`, `n_estimators` in tree-based models\n",
    "\n",
    "**Note:** Linear Regression has **few or no hyperparameters**, but if you move to Ridge/Lasso, tuning `alpha` will matter.\n",
    "\n",
    "---\n",
    "\n",
    "#### Revert back to wrangle function"
   ]
  },
  {
   "cell_type": "code",
   "execution_count": 110,
   "id": "32d44123-2149-4778-951c-b21de2128583",
   "metadata": {},
   "outputs": [
    {
     "data": {
      "text/plain": [
       "<Axes: >"
      ]
     },
     "execution_count": 110,
     "metadata": {},
     "output_type": "execute_result"
    },
    {
     "data": {
      "image/png": "[encoded data removed]",
      "text/plain": [
       "<Figure size 640x480 with 2 Axes>"
      ]
     },
     "metadata": {},
     "output_type": "display_data"
    }
   ],
   "source": [
    "# Multicollinearity --- check for values that are correlated with the target vector\n",
    "correlation = df.select_dtypes('number').corr()\n",
    "# correlation\n",
    "sns.heatmap(correlation)"
   ]
  },
  {
   "cell_type": "code",
   "execution_count": null,
   "id": "f1bf17e4-0953-40ef-bc7b-cd1febcce292",
   "metadata": {},
   "outputs": [],
   "source": [
    "# years_experience is highly correlated (+ve correlation)\n",
    "# remote_ratio --- lowly correlated"
   ]
  },
  {
   "cell_type": "code",
   "execution_count": 169,
   "id": "d5fee44d-0613-4525-a1ac-067823d81950",
   "metadata": {},
   "outputs": [
    {
     "name": "stdout",
     "output_type": "stream",
     "text": [
      "job_title             20\n",
      "experience_level       4\n",
      "employment_type        4\n",
      "company_location      20\n",
      "company_size           3\n",
      "employee_residence    20\n",
      "education_required     4\n",
      "industry              15\n",
      "company_name          16\n",
      "dtype: int64\n"
     ]
    }
   ],
   "source": [
    "# Cardinality - Unique Data points\n",
    "# count number of unique values in each columns in the consider featured matrix\n",
    "unique_counts = df.select_dtypes('object').nunique()\n",
    "print(unique_counts)"
   ]
  },
  {
   "cell_type": "code",
   "execution_count": 167,
   "id": "13ffe79c-b39e-4fa9-a2e4-6be25e92f2fc",
   "metadata": {},
   "outputs": [
    {
     "name": "stdout",
     "output_type": "stream",
     "text": [
      "Low Cardinality: [('experience_level', 4), ('employment_type', 4), ('company_size', 3), ('education_required', 4)]\n",
      "Moderate Cardinality: [('job_title', 20), ('company_location', 20), ('employee_residence', 20), ('industry', 15), ('company_name', 16)]\n",
      "High Cardinality: []\n"
     ]
    }
   ],
   "source": [
    "# Validate Cardinality\n",
    "low_cardinality = []\n",
    "moderate_cardinality = []\n",
    "high_cardinality = []\n",
    "\n",
    "for column in df.select_dtypes('object'):\n",
    "    num_unique = df[column].nunique()\n",
    "    if num_unique < 10:\n",
    "        low_cardinality.append((column, num_unique))\n",
    "    elif num_unique < 50:\n",
    "        moderate_cardinality.append((column, num_unique))\n",
    "    else:\n",
    "        high_cardinality.append((column, num_unique))\n",
    "\n",
    "print(\"Low Cardinality:\", low_cardinality)\n",
    "print(\"Moderate Cardinality:\", moderate_cardinality)\n",
    "print(\"High Cardinality:\", high_cardinality)"
   ]
  },
  {
   "cell_type": "code",
   "execution_count": 189,
   "id": "51c50343-fb36-4775-a55a-0ab66a987ea5",
   "metadata": {},
   "outputs": [],
   "source": [
    "# Could \"employee_residence\" be featured?  "
   ]
  },
  {
   "cell_type": "code",
   "execution_count": 191,
   "id": "2f181443-b07b-4219-87e5-87c586b0102f",
   "metadata": {},
   "outputs": [
    {
     "data": {
      "text/html": [
       "<div>\n",
       "<style scoped>\n",
       "    .dataframe tbody tr th:only-of-type {\n",
       "        vertical-align: middle;\n",
       "    }\n",
       "\n",
       "    .dataframe tbody tr th {\n",
       "        vertical-align: top;\n",
       "    }\n",
       "\n",
       "    .dataframe thead th {\n",
       "        text-align: right;\n",
       "    }\n",
       "</style>\n",
       "<table border=\"1\" class=\"dataframe\">\n",
       "  <thead>\n",
       "    <tr style=\"text-align: right;\">\n",
       "      <th></th>\n",
       "      <th>job_title</th>\n",
       "      <th>salary_usd</th>\n",
       "      <th>experience_level</th>\n",
       "      <th>employment_type</th>\n",
       "      <th>company_location</th>\n",
       "      <th>company_size</th>\n",
       "      <th>remote_ratio</th>\n",
       "      <th>education_required</th>\n",
       "      <th>industry</th>\n",
       "      <th>company_name</th>\n",
       "    </tr>\n",
       "    <tr>\n",
       "      <th>id</th>\n",
       "      <th></th>\n",
       "      <th></th>\n",
       "      <th></th>\n",
       "      <th></th>\n",
       "      <th></th>\n",
       "      <th></th>\n",
       "      <th></th>\n",
       "      <th></th>\n",
       "      <th></th>\n",
       "      <th></th>\n",
       "    </tr>\n",
       "  </thead>\n",
       "  <tbody>\n",
       "    <tr>\n",
       "      <th>1</th>\n",
       "      <td>AI Research Scientist</td>\n",
       "      <td>90376</td>\n",
       "      <td>SE</td>\n",
       "      <td>CT</td>\n",
       "      <td>China</td>\n",
       "      <td>M</td>\n",
       "      <td>50</td>\n",
       "      <td>Bachelor</td>\n",
       "      <td>Automotive</td>\n",
       "      <td>Smart Analytics</td>\n",
       "    </tr>\n",
       "    <tr>\n",
       "      <th>2</th>\n",
       "      <td>AI Software Engineer</td>\n",
       "      <td>61895</td>\n",
       "      <td>EN</td>\n",
       "      <td>CT</td>\n",
       "      <td>Canada</td>\n",
       "      <td>M</td>\n",
       "      <td>100</td>\n",
       "      <td>Master</td>\n",
       "      <td>Media</td>\n",
       "      <td>TechCorp Inc</td>\n",
       "    </tr>\n",
       "  </tbody>\n",
       "</table>\n",
       "</div>"
      ],
      "text/plain": [
       "                job_title  salary_usd experience_level employment_type  \\\n",
       "id                                                                       \n",
       "1   AI Research Scientist       90376               SE              CT   \n",
       "2    AI Software Engineer       61895               EN              CT   \n",
       "\n",
       "   company_location company_size  remote_ratio education_required    industry  \\\n",
       "id                                                                              \n",
       "1             China            M            50           Bachelor  Automotive   \n",
       "2            Canada            M           100             Master       Media   \n",
       "\n",
       "       company_name  \n",
       "id                   \n",
       "1   Smart Analytics  \n",
       "2      TechCorp Inc  "
      ]
     },
     "execution_count": 191,
     "metadata": {},
     "output_type": "execute_result"
    }
   ],
   "source": [
    "df.head(2)"
   ]
  },
  {
   "cell_type": "markdown",
   "id": "de222813-3d3e-400d-9dbc-2d65d517c6af",
   "metadata": {},
   "source": [
    "### iii. Split"
   ]
  },
  {
   "cell_type": "code",
   "execution_count": 193,
   "id": "150681c6-f048-4acd-a597-7db8a4ff5cef",
   "metadata": {},
   "outputs": [],
   "source": [
    "X = df.drop(columns=\"salary_usd\")\n",
    "y = df[\"salary_usd\"]"
   ]
  },
  {
   "cell_type": "code",
   "execution_count": 197,
   "id": "7d03b169-d42b-450d-a824-ac5f0a4982fb",
   "metadata": {},
   "outputs": [],
   "source": [
    "# df.nunique()\n",
    "# X.head()"
   ]
  },
  {
   "cell_type": "code",
   "execution_count": 208,
   "id": "85b8da83-9ea6-4d50-9c2e-d11ce3050f00",
   "metadata": {},
   "outputs": [],
   "source": [
    "X_train, X_test, y_train, y_test = train_test_split(X, y, test_size=0.2, random_state=42)"
   ]
  },
  {
   "cell_type": "markdown",
   "id": "21b642df-84a4-4475-82bb-00d2ccc7b428",
   "metadata": {},
   "source": [
    "#### Baseline - "
   ]
  },
  {
   "cell_type": "code",
   "execution_count": 247,
   "id": "0823382f-233f-43e9-a7e0-cde97dbc2f84",
   "metadata": {},
   "outputs": [
    {
     "name": "stdout",
     "output_type": "stream",
     "text": [
      "Mean apt price: 109359.12064066133\n",
      "Baseline MAE: 41135.83922519955\n"
     ]
    }
   ],
   "source": [
    "# Baseline\n",
    "y_mean = y_train.mean()\n",
    "y_pred_baseline = [y_mean] * len(y_train)\n",
    "print(\"Mean apt price:\", y_mean)\n",
    "\n",
    "baseline = mean_absolute_error(y_train, y_pred_baseline)\n",
    "print(\"Baseline MAE:\", baseline)"
   ]
  },
  {
   "cell_type": "markdown",
   "id": "b82ea13b-1876-4d54-aaf2-86922b35f921",
   "metadata": {},
   "source": [
    "Interpretation: If we guessed every salary to be the average of all training salaries, our error would be ~$41k."
   ]
  },
  {
   "cell_type": "markdown",
   "id": "5464b9ea-d0cf-4a82-977c-a3b099320b1e",
   "metadata": {},
   "source": [
    "#### Build Model\n",
    "- Build pipeline\n",
    "- Feature engineering: OneHotEncoding"
   ]
  },
  {
   "cell_type": "code",
   "execution_count": 272,
   "id": "ea0d9dd7-0d39-4560-b37b-53b179781d8d",
   "metadata": {},
   "outputs": [
    {
     "data": {
      "text/html": [
       "<div>\n",
       "<style scoped>\n",
       "    .dataframe tbody tr th:only-of-type {\n",
       "        vertical-align: middle;\n",
       "    }\n",
       "\n",
       "    .dataframe tbody tr th {\n",
       "        vertical-align: top;\n",
       "    }\n",
       "\n",
       "    .dataframe thead th {\n",
       "        text-align: right;\n",
       "    }\n",
       "</style>\n",
       "<table border=\"1\" class=\"dataframe\">\n",
       "  <thead>\n",
       "    <tr style=\"text-align: right;\">\n",
       "      <th></th>\n",
       "      <th>job_title</th>\n",
       "      <th>experience_level</th>\n",
       "      <th>employment_type</th>\n",
       "      <th>company_location</th>\n",
       "      <th>company_size</th>\n",
       "      <th>remote_ratio</th>\n",
       "      <th>education_required</th>\n",
       "      <th>industry</th>\n",
       "      <th>company_name</th>\n",
       "    </tr>\n",
       "    <tr>\n",
       "      <th>id</th>\n",
       "      <th></th>\n",
       "      <th></th>\n",
       "      <th></th>\n",
       "      <th></th>\n",
       "      <th></th>\n",
       "      <th></th>\n",
       "      <th></th>\n",
       "      <th></th>\n",
       "      <th></th>\n",
       "    </tr>\n",
       "  </thead>\n",
       "  <tbody>\n",
       "    <tr>\n",
       "      <th>8796</th>\n",
       "      <td>Machine Learning Engineer</td>\n",
       "      <td>MI</td>\n",
       "      <td>CT</td>\n",
       "      <td>Canada</td>\n",
       "      <td>L</td>\n",
       "      <td>100</td>\n",
       "      <td>PhD</td>\n",
       "      <td>Government</td>\n",
       "      <td>DataVision Ltd</td>\n",
       "    </tr>\n",
       "    <tr>\n",
       "      <th>8077</th>\n",
       "      <td>AI Consultant</td>\n",
       "      <td>MI</td>\n",
       "      <td>PT</td>\n",
       "      <td>United Kingdom</td>\n",
       "      <td>S</td>\n",
       "      <td>100</td>\n",
       "      <td>Associate</td>\n",
       "      <td>Consulting</td>\n",
       "      <td>TechCorp Inc</td>\n",
       "    </tr>\n",
       "    <tr>\n",
       "      <th>9712</th>\n",
       "      <td>Autonomous Systems Engineer</td>\n",
       "      <td>EN</td>\n",
       "      <td>FL</td>\n",
       "      <td>France</td>\n",
       "      <td>L</td>\n",
       "      <td>100</td>\n",
       "      <td>PhD</td>\n",
       "      <td>Technology</td>\n",
       "      <td>Advanced Robotics</td>\n",
       "    </tr>\n",
       "    <tr>\n",
       "      <th>9961</th>\n",
       "      <td>Head of AI</td>\n",
       "      <td>MI</td>\n",
       "      <td>FL</td>\n",
       "      <td>Austria</td>\n",
       "      <td>S</td>\n",
       "      <td>50</td>\n",
       "      <td>Associate</td>\n",
       "      <td>Healthcare</td>\n",
       "      <td>DataVision Ltd</td>\n",
       "    </tr>\n",
       "    <tr>\n",
       "      <th>12119</th>\n",
       "      <td>Autonomous Systems Engineer</td>\n",
       "      <td>MI</td>\n",
       "      <td>PT</td>\n",
       "      <td>Singapore</td>\n",
       "      <td>L</td>\n",
       "      <td>0</td>\n",
       "      <td>PhD</td>\n",
       "      <td>Consulting</td>\n",
       "      <td>Cloud AI Solutions</td>\n",
       "    </tr>\n",
       "  </tbody>\n",
       "</table>\n",
       "</div>"
      ],
      "text/plain": [
       "                         job_title experience_level employment_type  \\\n",
       "id                                                                    \n",
       "8796     Machine Learning Engineer               MI              CT   \n",
       "8077                 AI Consultant               MI              PT   \n",
       "9712   Autonomous Systems Engineer               EN              FL   \n",
       "9961                    Head of AI               MI              FL   \n",
       "12119  Autonomous Systems Engineer               MI              PT   \n",
       "\n",
       "      company_location company_size  remote_ratio education_required  \\\n",
       "id                                                                     \n",
       "8796            Canada            L           100                PhD   \n",
       "8077    United Kingdom            S           100          Associate   \n",
       "9712            France            L           100                PhD   \n",
       "9961           Austria            S            50          Associate   \n",
       "12119        Singapore            L             0                PhD   \n",
       "\n",
       "         industry        company_name  \n",
       "id                                     \n",
       "8796   Government      DataVision Ltd  \n",
       "8077   Consulting        TechCorp Inc  \n",
       "9712   Technology   Advanced Robotics  \n",
       "9961   Healthcare      DataVision Ltd  \n",
       "12119  Consulting  Cloud AI Solutions  "
      ]
     },
     "execution_count": 272,
     "metadata": {},
     "output_type": "execute_result"
    }
   ],
   "source": [
    "X_train.head()"
   ]
  },
  {
   "cell_type": "code",
   "execution_count": 236,
   "id": "442c9eaf-bb5d-40c2-961e-7c1765673f06",
   "metadata": {},
   "outputs": [],
   "source": [
    "# ohe = OneHotEncoder(sparse_output=True)\n",
    "# # fit\n",
    "# ohe.fit(X_train)\n",
    "# # Transform \n",
    "# XT_train = ohe.transform(X_train)\n",
    "# # print(XT_train.shape)\n",
    "# XT_train"
   ]
  },
  {
   "cell_type": "code",
   "execution_count": 216,
   "id": "2bd82f3d-8ef2-45ac-ba46-58100472b744",
   "metadata": {},
   "outputs": [
    {
     "data": {
      "text/html": [
       "<style>#sk-container-id-2 {\n",
       "  /* Definition of color scheme common for light and dark mode */\n",
       "  --sklearn-color-text: #000;\n",
       "  --sklearn-color-text-muted: #666;\n",
       "  --sklearn-color-line: gray;\n",
       "  /* Definition of color scheme for unfitted estimators */\n",
       "  --sklearn-color-unfitted-level-0: #fff5e6;\n",
       "  --sklearn-color-unfitted-level-1: #f6e4d2;\n",
       "  --sklearn-color-unfitted-level-2: #ffe0b3;\n",
       "  --sklearn-color-unfitted-level-3: chocolate;\n",
       "  /* Definition of color scheme for fitted estimators */\n",
       "  --sklearn-color-fitted-level-0: #f0f8ff;\n",
       "  --sklearn-color-fitted-level-1: #d4ebff;\n",
       "  --sklearn-color-fitted-level-2: #b3dbfd;\n",
       "  --sklearn-color-fitted-level-3: cornflowerblue;\n",
       "\n",
       "  /* Specific color for light theme */\n",
       "  --sklearn-color-text-on-default-background: var(--sg-text-color, var(--theme-code-foreground, var(--jp-content-font-color1, black)));\n",
       "  --sklearn-color-background: var(--sg-background-color, var(--theme-background, var(--jp-layout-color0, white)));\n",
       "  --sklearn-color-border-box: var(--sg-text-color, var(--theme-code-foreground, var(--jp-content-font-color1, black)));\n",
       "  --sklearn-color-icon: #696969;\n",
       "\n",
       "  @media (prefers-color-scheme: dark) {\n",
       "    /* Redefinition of color scheme for dark theme */\n",
       "    --sklearn-color-text-on-default-background: var(--sg-text-color, var(--theme-code-foreground, var(--jp-content-font-color1, white)));\n",
       "    --sklearn-color-background: var(--sg-background-color, var(--theme-background, var(--jp-layout-color0, #111)));\n",
       "    --sklearn-color-border-box: var(--sg-text-color, var(--theme-code-foreground, var(--jp-content-font-color1, white)));\n",
       "    --sklearn-color-icon: #878787;\n",
       "  }\n",
       "}\n",
       "\n",
       "#sk-container-id-2 {\n",
       "  color: var(--sklearn-color-text);\n",
       "}\n",
       "\n",
       "#sk-container-id-2 pre {\n",
       "  padding: 0;\n",
       "}\n",
       "\n",
       "#sk-container-id-2 input.sk-hidden--visually {\n",
       "  border: 0;\n",
       "  clip: rect(1px 1px 1px 1px);\n",
       "  clip: rect(1px, 1px, 1px, 1px);\n",
       "  height: 1px;\n",
       "  margin: -1px;\n",
       "  overflow: hidden;\n",
       "  padding: 0;\n",
       "  position: absolute;\n",
       "  width: 1px;\n",
       "}\n",
       "\n",
       "#sk-container-id-2 div.sk-dashed-wrapped {\n",
       "  border: 1px dashed var(--sklearn-color-line);\n",
       "  margin: 0 0.4em 0.5em 0.4em;\n",
       "  box-sizing: border-box;\n",
       "  padding-bottom: 0.4em;\n",
       "  background-color: var(--sklearn-color-background);\n",
       "}\n",
       "\n",
       "#sk-container-id-2 div.sk-container {\n",
       "  /* jupyter's `normalize.less` sets `[hidden] { display: none; }`\n",
       "     but bootstrap.min.css set `[hidden] { display: none !important; }`\n",
       "     so we also need the `!important` here to be able to override the\n",
       "     default hidden behavior on the sphinx rendered scikit-learn.org.\n",
       "     See: https://github.com/scikit-learn/scikit-learn/issues/21755 */\n",
       "  display: inline-block !important;\n",
       "  position: relative;\n",
       "}\n",
       "\n",
       "#sk-container-id-2 div.sk-text-repr-fallback {\n",
       "  display: none;\n",
       "}\n",
       "\n",
       "div.sk-parallel-item,\n",
       "div.sk-serial,\n",
       "div.sk-item {\n",
       "  /* draw centered vertical line to link estimators */\n",
       "  background-image: linear-gradient(var(--sklearn-color-text-on-default-background), var(--sklearn-color-text-on-default-background));\n",
       "  background-size: 2px 100%;\n",
       "  background-repeat: no-repeat;\n",
       "  background-position: center center;\n",
       "}\n",
       "\n",
       "/* Parallel-specific style estimator block */\n",
       "\n",
       "#sk-container-id-2 div.sk-parallel-item::after {\n",
       "  content: \"\";\n",
       "  width: 100%;\n",
       "  border-bottom: 2px solid var(--sklearn-color-text-on-default-background);\n",
       "  flex-grow: 1;\n",
       "}\n",
       "\n",
       "#sk-container-id-2 div.sk-parallel {\n",
       "  display: flex;\n",
       "  align-items: stretch;\n",
       "  justify-content: center;\n",
       "  background-color: var(--sklearn-color-background);\n",
       "  position: relative;\n",
       "}\n",
       "\n",
       "#sk-container-id-2 div.sk-parallel-item {\n",
       "  display: flex;\n",
       "  flex-direction: column;\n",
       "}\n",
       "\n",
       "#sk-container-id-2 div.sk-parallel-item:first-child::after {\n",
       "  align-self: flex-end;\n",
       "  width: 50%;\n",
       "}\n",
       "\n",
       "#sk-container-id-2 div.sk-parallel-item:last-child::after {\n",
       "  align-self: flex-start;\n",
       "  width: 50%;\n",
       "}\n",
       "\n",
       "#sk-container-id-2 div.sk-parallel-item:only-child::after {\n",
       "  width: 0;\n",
       "}\n",
       "\n",
       "/* Serial-specific style estimator block */\n",
       "\n",
       "#sk-container-id-2 div.sk-serial {\n",
       "  display: flex;\n",
       "  flex-direction: column;\n",
       "  align-items: center;\n",
       "  background-color: var(--sklearn-color-background);\n",
       "  padding-right: 1em;\n",
       "  padding-left: 1em;\n",
       "}\n",
       "\n",
       "\n",
       "/* Toggleable style: style used for estimator/Pipeline/ColumnTransformer box that is\n",
       "clickable and can be expanded/collapsed.\n",
       "- Pipeline and ColumnTransformer use this feature and define the default style\n",
       "- Estimators will overwrite some part of the style using the `sk-estimator` class\n",
       "*/\n",
       "\n",
       "/* Pipeline and ColumnTransformer style (default) */\n",
       "\n",
       "#sk-container-id-2 div.sk-toggleable {\n",
       "  /* Default theme specific background. It is overwritten whether we have a\n",
       "  specific estimator or a Pipeline/ColumnTransformer */\n",
       "  background-color: var(--sklearn-color-background);\n",
       "}\n",
       "\n",
       "/* Toggleable label */\n",
       "#sk-container-id-2 label.sk-toggleable__label {\n",
       "  cursor: pointer;\n",
       "  display: flex;\n",
       "  width: 100%;\n",
       "  margin-bottom: 0;\n",
       "  padding: 0.5em;\n",
       "  box-sizing: border-box;\n",
       "  text-align: center;\n",
       "  align-items: start;\n",
       "  justify-content: space-between;\n",
       "  gap: 0.5em;\n",
       "}\n",
       "\n",
       "#sk-container-id-2 label.sk-toggleable__label .caption {\n",
       "  font-size: 0.6rem;\n",
       "  font-weight: lighter;\n",
       "  color: var(--sklearn-color-text-muted);\n",
       "}\n",
       "\n",
       "#sk-container-id-2 label.sk-toggleable__label-arrow:before {\n",
       "  /* Arrow on the left of the label */\n",
       "  content: \"▸\";\n",
       "  float: left;\n",
       "  margin-right: 0.25em;\n",
       "  color: var(--sklearn-color-icon);\n",
       "}\n",
       "\n",
       "#sk-container-id-2 label.sk-toggleable__label-arrow:hover:before {\n",
       "  color: var(--sklearn-color-text);\n",
       "}\n",
       "\n",
       "/* Toggleable content - dropdown */\n",
       "\n",
       "#sk-container-id-2 div.sk-toggleable__content {\n",
       "  max-height: 0;\n",
       "  max-width: 0;\n",
       "  overflow: hidden;\n",
       "  text-align: left;\n",
       "  /* unfitted */\n",
       "  background-color: var(--sklearn-color-unfitted-level-0);\n",
       "}\n",
       "\n",
       "#sk-container-id-2 div.sk-toggleable__content.fitted {\n",
       "  /* fitted */\n",
       "  background-color: var(--sklearn-color-fitted-level-0);\n",
       "}\n",
       "\n",
       "#sk-container-id-2 div.sk-toggleable__content pre {\n",
       "  margin: 0.2em;\n",
       "  border-radius: 0.25em;\n",
       "  color: var(--sklearn-color-text);\n",
       "  /* unfitted */\n",
       "  background-color: var(--sklearn-color-unfitted-level-0);\n",
       "}\n",
       "\n",
       "#sk-container-id-2 div.sk-toggleable__content.fitted pre {\n",
       "  /* unfitted */\n",
       "  background-color: var(--sklearn-color-fitted-level-0);\n",
       "}\n",
       "\n",
       "#sk-container-id-2 input.sk-toggleable__control:checked~div.sk-toggleable__content {\n",
       "  /* Expand drop-down */\n",
       "  max-height: 200px;\n",
       "  max-width: 100%;\n",
       "  overflow: auto;\n",
       "}\n",
       "\n",
       "#sk-container-id-2 input.sk-toggleable__control:checked~label.sk-toggleable__label-arrow:before {\n",
       "  content: \"▾\";\n",
       "}\n",
       "\n",
       "/* Pipeline/ColumnTransformer-specific style */\n",
       "\n",
       "#sk-container-id-2 div.sk-label input.sk-toggleable__control:checked~label.sk-toggleable__label {\n",
       "  color: var(--sklearn-color-text);\n",
       "  background-color: var(--sklearn-color-unfitted-level-2);\n",
       "}\n",
       "\n",
       "#sk-container-id-2 div.sk-label.fitted input.sk-toggleable__control:checked~label.sk-toggleable__label {\n",
       "  background-color: var(--sklearn-color-fitted-level-2);\n",
       "}\n",
       "\n",
       "/* Estimator-specific style */\n",
       "\n",
       "/* Colorize estimator box */\n",
       "#sk-container-id-2 div.sk-estimator input.sk-toggleable__control:checked~label.sk-toggleable__label {\n",
       "  /* unfitted */\n",
       "  background-color: var(--sklearn-color-unfitted-level-2);\n",
       "}\n",
       "\n",
       "#sk-container-id-2 div.sk-estimator.fitted input.sk-toggleable__control:checked~label.sk-toggleable__label {\n",
       "  /* fitted */\n",
       "  background-color: var(--sklearn-color-fitted-level-2);\n",
       "}\n",
       "\n",
       "#sk-container-id-2 div.sk-label label.sk-toggleable__label,\n",
       "#sk-container-id-2 div.sk-label label {\n",
       "  /* The background is the default theme color */\n",
       "  color: var(--sklearn-color-text-on-default-background);\n",
       "}\n",
       "\n",
       "/* On hover, darken the color of the background */\n",
       "#sk-container-id-2 div.sk-label:hover label.sk-toggleable__label {\n",
       "  color: var(--sklearn-color-text);\n",
       "  background-color: var(--sklearn-color-unfitted-level-2);\n",
       "}\n",
       "\n",
       "/* Label box, darken color on hover, fitted */\n",
       "#sk-container-id-2 div.sk-label.fitted:hover label.sk-toggleable__label.fitted {\n",
       "  color: var(--sklearn-color-text);\n",
       "  background-color: var(--sklearn-color-fitted-level-2);\n",
       "}\n",
       "\n",
       "/* Estimator label */\n",
       "\n",
       "#sk-container-id-2 div.sk-label label {\n",
       "  font-family: monospace;\n",
       "  font-weight: bold;\n",
       "  display: inline-block;\n",
       "  line-height: 1.2em;\n",
       "}\n",
       "\n",
       "#sk-container-id-2 div.sk-label-container {\n",
       "  text-align: center;\n",
       "}\n",
       "\n",
       "/* Estimator-specific */\n",
       "#sk-container-id-2 div.sk-estimator {\n",
       "  font-family: monospace;\n",
       "  border: 1px dotted var(--sklearn-color-border-box);\n",
       "  border-radius: 0.25em;\n",
       "  box-sizing: border-box;\n",
       "  margin-bottom: 0.5em;\n",
       "  /* unfitted */\n",
       "  background-color: var(--sklearn-color-unfitted-level-0);\n",
       "}\n",
       "\n",
       "#sk-container-id-2 div.sk-estimator.fitted {\n",
       "  /* fitted */\n",
       "  background-color: var(--sklearn-color-fitted-level-0);\n",
       "}\n",
       "\n",
       "/* on hover */\n",
       "#sk-container-id-2 div.sk-estimator:hover {\n",
       "  /* unfitted */\n",
       "  background-color: var(--sklearn-color-unfitted-level-2);\n",
       "}\n",
       "\n",
       "#sk-container-id-2 div.sk-estimator.fitted:hover {\n",
       "  /* fitted */\n",
       "  background-color: var(--sklearn-color-fitted-level-2);\n",
       "}\n",
       "\n",
       "/* Specification for estimator info (e.g. \"i\" and \"?\") */\n",
       "\n",
       "/* Common style for \"i\" and \"?\" */\n",
       "\n",
       ".sk-estimator-doc-link,\n",
       "a:link.sk-estimator-doc-link,\n",
       "a:visited.sk-estimator-doc-link {\n",
       "  float: right;\n",
       "  font-size: smaller;\n",
       "  line-height: 1em;\n",
       "  font-family: monospace;\n",
       "  background-color: var(--sklearn-color-background);\n",
       "  border-radius: 1em;\n",
       "  height: 1em;\n",
       "  width: 1em;\n",
       "  text-decoration: none !important;\n",
       "  margin-left: 0.5em;\n",
       "  text-align: center;\n",
       "  /* unfitted */\n",
       "  border: var(--sklearn-color-unfitted-level-1) 1pt solid;\n",
       "  color: var(--sklearn-color-unfitted-level-1);\n",
       "}\n",
       "\n",
       ".sk-estimator-doc-link.fitted,\n",
       "a:link.sk-estimator-doc-link.fitted,\n",
       "a:visited.sk-estimator-doc-link.fitted {\n",
       "  /* fitted */\n",
       "  border: var(--sklearn-color-fitted-level-1) 1pt solid;\n",
       "  color: var(--sklearn-color-fitted-level-1);\n",
       "}\n",
       "\n",
       "/* On hover */\n",
       "div.sk-estimator:hover .sk-estimator-doc-link:hover,\n",
       ".sk-estimator-doc-link:hover,\n",
       "div.sk-label-container:hover .sk-estimator-doc-link:hover,\n",
       ".sk-estimator-doc-link:hover {\n",
       "  /* unfitted */\n",
       "  background-color: var(--sklearn-color-unfitted-level-3);\n",
       "  color: var(--sklearn-color-background);\n",
       "  text-decoration: none;\n",
       "}\n",
       "\n",
       "div.sk-estimator.fitted:hover .sk-estimator-doc-link.fitted:hover,\n",
       ".sk-estimator-doc-link.fitted:hover,\n",
       "div.sk-label-container:hover .sk-estimator-doc-link.fitted:hover,\n",
       ".sk-estimator-doc-link.fitted:hover {\n",
       "  /* fitted */\n",
       "  background-color: var(--sklearn-color-fitted-level-3);\n",
       "  color: var(--sklearn-color-background);\n",
       "  text-decoration: none;\n",
       "}\n",
       "\n",
       "/* Span, style for the box shown on hovering the info icon */\n",
       ".sk-estimator-doc-link span {\n",
       "  display: none;\n",
       "  z-index: 9999;\n",
       "  position: relative;\n",
       "  font-weight: normal;\n",
       "  right: .2ex;\n",
       "  padding: .5ex;\n",
       "  margin: .5ex;\n",
       "  width: min-content;\n",
       "  min-width: 20ex;\n",
       "  max-width: 50ex;\n",
       "  color: var(--sklearn-color-text);\n",
       "  box-shadow: 2pt 2pt 4pt #999;\n",
       "  /* unfitted */\n",
       "  background: var(--sklearn-color-unfitted-level-0);\n",
       "  border: .5pt solid var(--sklearn-color-unfitted-level-3);\n",
       "}\n",
       "\n",
       ".sk-estimator-doc-link.fitted span {\n",
       "  /* fitted */\n",
       "  background: var(--sklearn-color-fitted-level-0);\n",
       "  border: var(--sklearn-color-fitted-level-3);\n",
       "}\n",
       "\n",
       ".sk-estimator-doc-link:hover span {\n",
       "  display: block;\n",
       "}\n",
       "\n",
       "/* \"?\"-specific style due to the `<a>` HTML tag */\n",
       "\n",
       "#sk-container-id-2 a.estimator_doc_link {\n",
       "  float: right;\n",
       "  font-size: 1rem;\n",
       "  line-height: 1em;\n",
       "  font-family: monospace;\n",
       "  background-color: var(--sklearn-color-background);\n",
       "  border-radius: 1rem;\n",
       "  height: 1rem;\n",
       "  width: 1rem;\n",
       "  text-decoration: none;\n",
       "  /* unfitted */\n",
       "  color: var(--sklearn-color-unfitted-level-1);\n",
       "  border: var(--sklearn-color-unfitted-level-1) 1pt solid;\n",
       "}\n",
       "\n",
       "#sk-container-id-2 a.estimator_doc_link.fitted {\n",
       "  /* fitted */\n",
       "  border: var(--sklearn-color-fitted-level-1) 1pt solid;\n",
       "  color: var(--sklearn-color-fitted-level-1);\n",
       "}\n",
       "\n",
       "/* On hover */\n",
       "#sk-container-id-2 a.estimator_doc_link:hover {\n",
       "  /* unfitted */\n",
       "  background-color: var(--sklearn-color-unfitted-level-3);\n",
       "  color: var(--sklearn-color-background);\n",
       "  text-decoration: none;\n",
       "}\n",
       "\n",
       "#sk-container-id-2 a.estimator_doc_link.fitted:hover {\n",
       "  /* fitted */\n",
       "  background-color: var(--sklearn-color-fitted-level-3);\n",
       "}\n",
       "</style><div id=\"sk-container-id-2\" class=\"sk-top-container\"><div class=\"sk-text-repr-fallback\"><pre>Pipeline(steps=[(&#x27;onehotencoder&#x27;, OneHotEncoder(sparse_output=False)),\n",
       "                (&#x27;linearregression&#x27;, LinearRegression())])</pre><b>In a Jupyter environment, please rerun this cell to show the HTML representation or trust the notebook. <br />On GitHub, the HTML representation is unable to render, please try loading this page with nbviewer.org.</b></div><div class=\"sk-container\" hidden><div class=\"sk-item sk-dashed-wrapped\"><div class=\"sk-label-container\"><div class=\"sk-label fitted sk-toggleable\"><input class=\"sk-toggleable__control sk-hidden--visually\" id=\"sk-estimator-id-4\" type=\"checkbox\" ><label for=\"sk-estimator-id-4\" class=\"sk-toggleable__label fitted sk-toggleable__label-arrow\"><div><div>Pipeline</div></div><div><a class=\"sk-estimator-doc-link fitted\" rel=\"noreferrer\" target=\"_blank\" href=\"https://scikit-learn.org/1.6/modules/generated/sklearn.pipeline.Pipeline.html\">?<span>Documentation for Pipeline</span></a><span class=\"sk-estimator-doc-link fitted\">i<span>Fitted</span></span></div></label><div class=\"sk-toggleable__content fitted\"><pre>Pipeline(steps=[(&#x27;onehotencoder&#x27;, OneHotEncoder(sparse_output=False)),\n",
       "                (&#x27;linearregression&#x27;, LinearRegression())])</pre></div> </div></div><div class=\"sk-serial\"><div class=\"sk-item\"><div class=\"sk-estimator fitted sk-toggleable\"><input class=\"sk-toggleable__control sk-hidden--visually\" id=\"sk-estimator-id-5\" type=\"checkbox\" ><label for=\"sk-estimator-id-5\" class=\"sk-toggleable__label fitted sk-toggleable__label-arrow\"><div><div>OneHotEncoder</div></div><div><a class=\"sk-estimator-doc-link fitted\" rel=\"noreferrer\" target=\"_blank\" href=\"https://scikit-learn.org/1.6/modules/generated/sklearn.preprocessing.OneHotEncoder.html\">?<span>Documentation for OneHotEncoder</span></a></div></label><div class=\"sk-toggleable__content fitted\"><pre>OneHotEncoder(sparse_output=False)</pre></div> </div></div><div class=\"sk-item\"><div class=\"sk-estimator fitted sk-toggleable\"><input class=\"sk-toggleable__control sk-hidden--visually\" id=\"sk-estimator-id-6\" type=\"checkbox\" ><label for=\"sk-estimator-id-6\" class=\"sk-toggleable__label fitted sk-toggleable__label-arrow\"><div><div>LinearRegression</div></div><div><a class=\"sk-estimator-doc-link fitted\" rel=\"noreferrer\" target=\"_blank\" href=\"https://scikit-learn.org/1.6/modules/generated/sklearn.linear_model.LinearRegression.html\">?<span>Documentation for LinearRegression</span></a></div></label><div class=\"sk-toggleable__content fitted\"><pre>LinearRegression()</pre></div> </div></div></div></div></div></div>"
      ],
      "text/plain": [
       "Pipeline(steps=[('onehotencoder', OneHotEncoder(sparse_output=False)),\n",
       "                ('linearregression', LinearRegression())])"
      ]
     },
     "execution_count": 216,
     "metadata": {},
     "output_type": "execute_result"
    }
   ],
   "source": [
    "model = make_pipeline(\n",
    "    OneHotEncoder(sparse_output=False), # feature engineering\n",
    "    LinearRegression()\n",
    ")\n",
    "model.fit(X_train, y_train)"
   ]
  },
  {
   "cell_type": "code",
   "execution_count": 232,
   "id": "96d9cc51-8d9a-4e7a-87a2-3b57be16bff6",
   "metadata": {},
   "outputs": [],
   "source": [
    "# model.predict(X_test)"
   ]
  },
  {
   "cell_type": "markdown",
   "id": "3c758481-abda-412e-a203-5a677600ebcc",
   "metadata": {},
   "source": [
    "#### Check MAE against the baseline"
   ]
  },
  {
   "cell_type": "code",
   "execution_count": 245,
   "id": "852a0f04-b1e0-44dc-bd7b-7d48f58c0f87",
   "metadata": {},
   "outputs": [
    {
     "name": "stdout",
     "output_type": "stream",
     "text": [
      "Training MAE: 14186.76\n"
     ]
    }
   ],
   "source": [
    "y_pred_training = model.predict(X_train)\n",
    "\n",
    "mae_training = mean_absolute_error(y_train, y_pred_training)\n",
    "print(\"Training MAE:\", round(mae_training, 2))"
   ]
  },
  {
   "cell_type": "code",
   "execution_count": 253,
   "id": "57d8a51e-893f-4d94-ad24-7df18790bc77",
   "metadata": {},
   "outputs": [
    {
     "data": {
      "text/plain": [
       "65.51240062676347"
      ]
     },
     "execution_count": 253,
     "metadata": {},
     "output_type": "execute_result"
    }
   ],
   "source": [
    "# Error Reduction (%) = ((Baseline MAE - Model MAE) / Baseline MAE) * 100\n",
    "\n",
    "error_reduction = (baseline - mae_training) / baseline * 100\n",
    "error_reduction\n",
    "\n",
    "# (mae_training/baseline) * 100"
   ]
  },
  {
   "cell_type": "markdown",
   "id": "78d7b722-76b7-4870-afff-fdbbaf72ce34",
   "metadata": {},
   "source": [
    "Interpretation: **Model reduced the error by almost 65% compared to the baseline, which is a strong indication that the model is capturing useful patterns.**"
   ]
  },
  {
   "cell_type": "code",
   "execution_count": 270,
   "id": "f2d46e4a-c545-4711-baa7-1cb56c5b619d",
   "metadata": {},
   "outputs": [
    {
     "name": "stdout",
     "output_type": "stream",
     "text": [
      "Training R² Score: 0.8664\n"
     ]
    }
   ],
   "source": [
    "# Check R2 Score \n",
    "r2_train = r2_score(y_train, y_pred_training)\n",
    "print(\"Training R² Score:\", round(r2_train, 4))"
   ]
  },
  {
   "cell_type": "code",
   "execution_count": 263,
   "id": "9b76f804-36f6-4f76-87bc-1bdbe26c672b",
   "metadata": {},
   "outputs": [
    {
     "data": {
      "text/plain": [
       "Text(0, 0.5, 'Frequency')"
      ]
     },
     "execution_count": 263,
     "metadata": {},
     "output_type": "execute_result"
    },
    {
     "data": {
      "image/png": "[encoded data removed]",
      "text/plain": [
       "<Figure size 640x480 with 1 Axes>"
      ]
     },
     "metadata": {},
     "output_type": "display_data"
    }
   ],
   "source": [
    "# Residual Analysis: \n",
    "residuals = y_train - y_pred_training\n",
    "plt.hist(residuals, bins=10)\n",
    "plt.title(\"Training Residuals\")\n",
    "plt.xlabel(\"Error\")\n",
    "plt.ylabel(\"Frequency\")"
   ]
  },
  {
   "cell_type": "code",
   "execution_count": null,
   "id": "866823ed-4d90-45c7-af49-a0bcb53fa398",
   "metadata": {},
   "outputs": [],
   "source": []
  }
 ],
 "metadata": {
  "kernelspec": {
   "display_name": "Python 3 (ipykernel)",
   "language": "python",
   "name": "python3"
  },
  "language_info": {
   "codemirror_mode": {
    "name": "ipython",
    "version": 3
   },
   "file_extension": ".py",
   "mimetype": "text/x-python",
   "name": "python",
   "nbconvert_exporter": "python",
   "pygments_lexer": "ipython3",
   "version": "3.12.7"
  }
 },
 "nbformat": 4,
 "nbformat_minor": 5
}
