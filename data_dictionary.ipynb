{
 "cells": [
  {
   "cell_type": "markdown",
   "id": "bb767dee-dbad-4e3d-9b87-e95215ccab24",
   "metadata": {
    "jp-MarkdownHeadingCollapsed": true
   },
   "source": [
    "# About Dataset\n",
    "*AI Job Market & Salary Analysis 2025 Dataset*\n",
    "## Dataset Overview\n",
    "This comprehensive dataset contains detailed information about AI and machine learning job positions, salaries, and market trends across different countries, experience levels, and company sizes. Perfect for data science enthusiasts, career researchers, and market analysts.\n",
    "\n",
    "## Dataset Title\n",
    "Global AI Job Market & Salary Trends 2025: Complete Analysis of 15,000+ Positions\n",
    "\n",
    "## Dataset Description\n",
    "This dataset provides an extensive analysis of the artificial intelligence job market with over 15,000 real job postings collected from major job platforms worldwide. It includes detailed salary information, job requirements, company insights, and geographic trends.\n",
    "\n",
    "##  Key Features:\n",
    "\n",
    "- 15,000+ job listings from 50+ countries\n",
    "- Salary data in multiple currencies (normalized to USD)\n",
    "- Experience level categorization (Entry, Mid, Senior, Executive)\n",
    "- Company size impact analysis\n",
    "- Remote work trends and patterns\n",
    "- Skills demand analysis\n",
    "- Geographic salary variations\n",
    "- Time-series data showing market evolution"
   ]
  },
  {
   "cell_type": "markdown",
   "id": "4441e543-04b9-4a83-a8d4-0a0788bf6627",
   "metadata": {},
   "source": [
    "# Data Dictionary\n",
    "\n",
    "| Column                | Description                                                                 | Type    |\n",
    "|-----------------------|-----------------------------------------------------------------------------|---------|\n",
    "| job_id                | Unique identifier for each job posting                                      | String  |\n",
    "| job_title             | Standardized job title                                                     | String  |\n",
    "| salary_usd            | Annual salary in USD                                                       | Integer |\n",
    "| salary_currency       | Original salary currency                                                   | String  |\n",
    "| salary_local          | Salary in local currency                                                   | Float   |\n",
    "| experience_level      | EN (Entry), MI (Mid), SE (Senior), EX (Executive)                          | String  |\n",
    "| employment_type       | FT (Full-time), PT (Part-time), CT (Contract), FL (Freelance)              | String  |\n",
    "| job_category          | ML Engineer, Data Scientist, AI Researcher, etc.                           | String  |\n",
    "| company_location      | Country where company is located                                           | String  |\n",
    "| company_size          | S (Small <50), M (Medium 50-250), L (Large >250)                           | String  |\n",
    "| employee_residence    | Country where employee resides                                             | String  |\n",
    "| remote_ratio          | 0 (No remote), 50 (Hybrid), 100 (Fully remote)                             | Integer |\n",
    "| required_skills       | Top 5 required skills (comma-separated)                                    | String  |\n",
    "| education_required    | Minimum education requirement                                              | String  |\n",
    "| years_experience      | Required years of experience                                               | Integer |\n",
    "| industry             | Industry sector of the company                                             | String  |\n",
    "| posting_date          | Date when job was posted                                                   | Date    |\n",
    "| application_deadline  | Application deadline                                                       | Date    |\n",
    "| job_description_length| Character count of job description                                         | Integer |\n",
    "| benefits_score        | Numerical score of benefits package (1-10)                                 | Float   |"
   ]
  },
  {
   "cell_type": "markdown",
   "id": "019473ae-b16d-4d61-b9e1-300e8d392879",
   "metadata": {},
   "source": [
    "# Potential Use Cases\n",
    "1. Salary Prediction Models\n",
    "    - Build ML models to predict AI job salaries\n",
    "    - Analyze factors affecting compensation\n",
    "    - Compare salaries across different locations\n",
    "\n",
    "\n",
    "2. Market Trend Analysis\n",
    "    - Track the evolution of AI job market\n",
    "    - Identify emerging job roles and skills\n",
    "    - Analyze remote work adoption patterns\n",
    "\n",
    "\n",
    "3. Career Planning\n",
    "    - Understand skill requirements for different positions\n",
    "    - Compare opportunities across countries\n",
    "    - Plan career progression paths\n",
    "\n",
    "\n",
    "4. Business Intelligence\n",
    "    - Company hiring patterns analysis\n",
    "    - Skills gap identification\n",
    "    - Market competition insights\n",
    "\n",
    "\n",
    "5. Geographic Studies\n",
    "    - Cost of living vs. salary analysis\n",
    "    - Regional market maturity assessment\n",
    "    - Immigration pattern correlations"
   ]
  },
  {
   "cell_type": "code",
   "execution_count": null,
   "id": "3ac205bb-e884-4762-9803-f26beded8464",
   "metadata": {},
   "outputs": [],
   "source": []
  }
 ],
 "metadata": {
  "kernelspec": {
   "display_name": "Python 3 (ipykernel)",
   "language": "python",
   "name": "python3"
  },
  "language_info": {
   "codemirror_mode": {
    "name": "ipython",
    "version": 3
   },
   "file_extension": ".py",
   "mimetype": "text/x-python",
   "name": "python",
   "nbconvert_exporter": "python",
   "pygments_lexer": "ipython3",
   "version": "3.12.7"
  }
 },
 "nbformat": 4,
 "nbformat_minor": 5
}
